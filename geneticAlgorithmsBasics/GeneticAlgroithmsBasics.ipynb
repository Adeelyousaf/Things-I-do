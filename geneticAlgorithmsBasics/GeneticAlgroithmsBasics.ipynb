{
 "cells": [
  {
   "cell_type": "code",
   "execution_count": 9,
   "metadata": {},
   "outputs": [],
   "source": [
    "import operator\n",
    "import random\n",
    "import numpy as np\n",
    "import matplotlib.pyplot as plt\n",
    "import pandas as pd\n",
    "import math"
   ]
  },
  {
   "cell_type": "code",
   "execution_count": 10,
   "metadata": {},
   "outputs": [],
   "source": [
    "class City(object):\n",
    "    def __init__(self, x, y):\n",
    "        self.x = x\n",
    "        self.y = y\n",
    "        \n",
    "    def distance(city):\n",
    "        x_dist = abs(self.x - city.x)**2\n",
    "        y_dist = abs(self.y - city.y)**2\n",
    "        return math.sqrt(x_dist + y_dist)"
   ]
  },
  {
   "cell_type": "code",
   "execution_count": 22,
   "metadata": {},
   "outputs": [],
   "source": [
    "class Fitness(object):\n",
    "    def __init__(self, route):\n",
    "        self.route = route\n",
    "        self.fitness = 0\n",
    "        self.distance = 0\n",
    "        \n",
    "    def routeDistance(self):\n",
    "        self.distance = 0\n",
    "        for i in range(len(self.route) - 1):\n",
    "            self.distance += self.route[i].distance(self.route[i+1])\n",
    "        self.distance += self.route[-1].distance(self.route[0])\n",
    "        return self.distance\n",
    "    \n",
    "    def routeFitness(self):\n",
    "        routeDistanceVar = self.routeDistance()\n",
    "        if(routeDistanceVar == 0):\n",
    "            self.fitness = float(\"inf\")\n",
    "        else:\n",
    "            self.fitness = 1/routeDistanceVar\n",
    "        return self.fitness"
   ]
  },
  {
   "cell_type": "code",
   "execution_count": 23,
   "metadata": {},
   "outputs": [
    {
     "data": {
      "text/plain": [
       "True"
      ]
     },
     "execution_count": 23,
     "metadata": {},
     "output_type": "execute_result"
    }
   ],
   "source": [
    "float(\"inf\") > 10"
   ]
  },
  {
   "cell_type": "code",
   "execution_count": null,
   "metadata": {},
   "outputs": [],
   "source": []
  }
 ],
 "metadata": {
  "kernelspec": {
   "display_name": "TSPUsingGA",
   "language": "python",
   "name": "tspusingga"
  },
  "language_info": {
   "codemirror_mode": {
    "name": "ipython",
    "version": 3
   },
   "file_extension": ".py",
   "mimetype": "text/x-python",
   "name": "python",
   "nbconvert_exporter": "python",
   "pygments_lexer": "ipython3",
   "version": "3.6.7"
  }
 },
 "nbformat": 4,
 "nbformat_minor": 2
}
